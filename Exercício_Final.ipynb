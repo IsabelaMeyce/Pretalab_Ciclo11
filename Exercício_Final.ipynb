{
  "nbformat": 4,
  "nbformat_minor": 0,
  "metadata": {
    "colab": {
      "provenance": [],
      "toc_visible": true,
      "include_colab_link": true
    },
    "kernelspec": {
      "name": "python3",
      "display_name": "Python 3"
    },
    "language_info": {
      "name": "python"
    }
  },
  "cells": [
    {
      "cell_type": "markdown",
      "metadata": {
        "id": "view-in-github",
        "colab_type": "text"
      },
      "source": [
        "<a href=\"https://colab.research.google.com/github/IsabelaMeyce/Pretalab_Ciclo11/blob/main/Exerc%C3%ADcio_Final.ipynb\" target=\"_parent\"><img src=\"https://colab.research.google.com/assets/colab-badge.svg\" alt=\"Open In Colab\"/></a>"
      ]
    },
    {
      "cell_type": "markdown",
      "source": [
        "# Contagem de Medalhas\n",
        "\n",
        "Crie um programa que receba o número de medalhas de ouro, prata e bronze de um país nas Olimpíadas e calcule o total de medalhas.\n",
        "Quando escrever 'sair', o programa deverá encerrar e mostrar na tela o ranking de medalhas no formato:"
      ],
      "metadata": {
        "id": "RQN1e5FZY6SZ"
      }
    },
    {
      "cell_type": "code",
      "source": [
        "#Ranking de medalhas:\n",
        "#Brasil: 7 medalhas\n",
        "#França: 6 medalhas\n",
        "#Argentina: 3 medalhas"
      ],
      "metadata": {
        "id": "gCq_KLHzZSzb"
      },
      "execution_count": 42,
      "outputs": []
    },
    {
      "cell_type": "code",
      "execution_count": null,
      "metadata": {
        "id": "AJJhjxiPTd5s"
      },
      "outputs": [],
      "source": [
        "# Resposta aqui\n",
        "\n",
        "\n",
        "ranking = {}\n",
        "\n",
        "while True:\n",
        "    pais = input('Digite o nome do país (ou \"sair\" para encerrar): ')\n",
        "\n",
        "    if pais.lower() == 'sair':\n",
        "        break\n",
        "\n",
        "    try:\n",
        "        total_medalhas = int(input('Digite o número total de medalhas: '))\n",
        "        ranking[pais] = total_medalhas\n",
        "    except ValueError:\n",
        "        print('Insira um número válido para o total de medalhas.')\n",
        "        continue\n",
        "\n",
        "# Ordenando o ranking por números de medalhas\n",
        "\n",
        "ordem_do_ranking = sorted(ranking.items(), key=lambda x: x[1], reverse=True)\n",
        "\n",
        "print('\\nRanking de medalhas: ')\n",
        "for pais, total_medalhas in ordem_do_ranking:\n",
        "    print(f'{pais}: {total_medalhas} medalhas')\n",
        "\n"
      ]
    }
  ]
}